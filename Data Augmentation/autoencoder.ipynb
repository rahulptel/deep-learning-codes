{
 "cells": [
  {
   "cell_type": "markdown",
   "metadata": {},
   "source": [
    "# CheckIt data augmentation - Autoencoder\n",
    "\n",
    "An autoencoder comprises to two neural nets - encoder and decoder. The job of encoder is to transform the input data to a latent code. The dimension of this code is much less as compared to the dimension of the input data. This latent code is then passed to the decoder net, which maps it back to the input space. The loss function - at the end of the decoder - is the difference between the generated vector in input space and the original input vector. This constraint makes the encoder net function as a compressor, extracting out the most critical information from input and representing it in an efficient way, and decoder as a decompessor, which learns to map latent code to the original input.\n",
    "\n",
    "### References\n",
    "\n",
    "- [Keras Blog](https://blog.keras.io/building-autoencoders-in-keras.html)"
   ]
  },
  {
   "cell_type": "code",
   "execution_count": 12,
   "metadata": {},
   "outputs": [
    {
     "name": "stdout",
     "output_type": "stream",
     "text": [
      "(2513, 2048)\n",
      "(630, 2048)\n"
     ]
    }
   ],
   "source": [
    "import glob as glob\n",
    "import cv2\n",
    "import numpy as np\n",
    "\n",
    "from keras.layers import Input, Dense\n",
    "from keras.models import Model\n",
    "\n",
    "# Read images from local dir\n",
    "def load_normalized_data(data_dir):\n",
    "    x_train = []\n",
    "    x_test = [] \n",
    "    y_train = []\n",
    "    y_test = []\n",
    "    split = 0.8\n",
    "    labels_to_fetch = ['1', '2', '3', '4']\n",
    "    \n",
    "    for curr_label in labels_to_fetch:        \n",
    "        temp = []\n",
    "        for image_path in glob.glob(data_dir+curr_label+'_*.jpg'):        \n",
    "            #print(image_path)\n",
    "            image = cv2.imread(image_path)\n",
    "            gray_image = cv2.cvtColor(image, cv2.COLOR_BGR2GRAY)\n",
    "            # Flatten image\n",
    "            #print(gray_image.shape)\n",
    "            gray_image = np.reshape(gray_image, -1)\n",
    "            #print(gray_image.shape)\n",
    "            temp.append(gray_image)\n",
    "        split_idx = int(len(temp) * split)\n",
    "        np.random.shuffle(temp)\n",
    "        x_train.extend(temp[:split_idx])\n",
    "        y_train.extend([int(curr_label)] * len(temp[:split_idx]))\n",
    "        x_test.extend(temp[split_idx:])\n",
    "        y_train.extend([int(curr_label)] * len(temp[split_idx:]))\n",
    "            \n",
    "    x_train = (np.asarray(x_train, dtype=np.float32)) / 255.\n",
    "    x_test = (np.asarray(x_test, dtype=np.float32)) / 255.\n",
    "    \n",
    "    return x_train, x_test, y_train, y_test\n",
    "\n",
    "x_train, x_test, y_train, y_test = load_normalized_data(data_dir='../data/')\n",
    "\n",
    "print(x_train.shape)\n",
    "print(x_test.shape)"
   ]
  },
  {
   "cell_type": "code",
   "execution_count": 10,
   "metadata": {},
   "outputs": [
    {
     "name": "stdout",
     "output_type": "stream",
     "text": [
      "Train on 2513 samples, validate on 626 samples\n",
      "Epoch 1/25\n",
      "2513/2513 [==============================] - 1s - loss: 0.6388 - val_loss: 0.5903\n",
      "Epoch 2/25\n",
      "2513/2513 [==============================] - 0s - loss: 0.5830 - val_loss: 0.5816\n",
      "Epoch 3/25\n",
      "2513/2513 [==============================] - 0s - loss: 0.5796 - val_loss: 0.5810\n",
      "Epoch 4/25\n",
      "2513/2513 [==============================] - 0s - loss: 0.5791 - val_loss: 0.5805ss: 0.57\n",
      "Epoch 5/25\n",
      "2513/2513 [==============================] - 0s - loss: 0.5788 - val_loss: 0.5802\n",
      "Epoch 6/25\n",
      "2513/2513 [==============================] - 0s - loss: 0.5786 - val_loss: 0.5797\n",
      "Epoch 7/25\n",
      "2513/2513 [==============================] - 0s - loss: 0.5783 - val_loss: 0.5793\n",
      "Epoch 8/25\n",
      "2513/2513 [==============================] - 0s - loss: 0.5786 - val_loss: 0.5790\n",
      "Epoch 9/25\n",
      "2513/2513 [==============================] - 0s - loss: 0.5775 - val_loss: 0.5783\n",
      "Epoch 10/25\n",
      "2513/2513 [==============================] - 0s - loss: 0.5767 - val_loss: 0.5775\n",
      "Epoch 11/25\n",
      "2513/2513 [==============================] - 0s - loss: 0.5757 - val_loss: 0.5765\n",
      "Epoch 12/25\n",
      "2513/2513 [==============================] - 0s - loss: 0.5747 - val_loss: 0.5754\n",
      "Epoch 13/25\n",
      "2513/2513 [==============================] - 0s - loss: 0.5729 - val_loss: 0.5737\n",
      "Epoch 14/25\n",
      "2513/2513 [==============================] - 0s - loss: 0.5717 - val_loss: 0.5722\n",
      "Epoch 15/25\n",
      "2513/2513 [==============================] - 0s - loss: 0.5705 - val_loss: 0.5710\n",
      "Epoch 16/25\n",
      "2513/2513 [==============================] - 0s - loss: 0.5693 - val_loss: 0.5700\n",
      "Epoch 17/25\n",
      "2513/2513 [==============================] - 0s - loss: 0.5680 - val_loss: 0.5691\n",
      "Epoch 18/25\n",
      "2513/2513 [==============================] - 0s - loss: 0.5674 - val_loss: 0.5685\n",
      "Epoch 19/25\n",
      "2513/2513 [==============================] - 0s - loss: 0.5668 - val_loss: 0.5681\n",
      "Epoch 20/25\n",
      "2513/2513 [==============================] - 0s - loss: 0.5664 - val_loss: 0.5677\n",
      "Epoch 21/25\n",
      "2513/2513 [==============================] - 0s - loss: 0.5662 - val_loss: 0.5680\n",
      "Epoch 22/25\n",
      "2513/2513 [==============================] - 0s - loss: 0.5661 - val_loss: 0.5675\n",
      "Epoch 23/25\n",
      "2513/2513 [==============================] - 0s - loss: 0.5656 - val_loss: 0.5670\n",
      "Epoch 24/25\n",
      "2513/2513 [==============================] - 0s - loss: 0.5650 - val_loss: 0.5671\n",
      "Epoch 25/25\n",
      "2513/2513 [==============================] - 0s - loss: 0.5649 - val_loss: 0.5663\n"
     ]
    },
    {
     "data": {
      "text/plain": [
       "<keras.callbacks.History at 0x247c6264b70>"
      ]
     },
     "execution_count": 10,
     "metadata": {},
     "output_type": "execute_result"
    }
   ],
   "source": [
    "# this is the size of our encoded representations\n",
    "encoding_dim = 64  # 32 floats -> compression of factor 24.5, assuming the input is 784 floats\n",
    "\n",
    "# this is our input placeholder\n",
    "input_img = Input(shape=(2048,))\n",
    "# \"encoded\" is the encoded representation of the input\n",
    "encoded = Dense(encoding_dim, activation='relu')(input_img)\n",
    "# \"decoded\" is the lossy reconstruction of the input\n",
    "decoded = Dense(2048, activation='sigmoid')(encoded)\n",
    "\n",
    "# this model maps an input to its reconstruction\n",
    "autoencoder = Model(input_img, decoded)\n",
    "\n",
    "# this model maps an input to its encoded representation\n",
    "encoder = Model(input_img, encoded)\n",
    "\n",
    "# create a placeholder for an encoded (32-dimensional) input\n",
    "encoded_input = Input(shape=(encoding_dim,))\n",
    "# retrieve the last layer of the autoencoder model\n",
    "decoder_layer = autoencoder.layers[-1]\n",
    "# create the decoder model\n",
    "decoder = Model(encoded_input, decoder_layer(encoded_input))\n",
    "\n",
    "autoencoder.compile(optimizer='adam', loss='binary_crossentropy')\n",
    "\n",
    "autoencoder.fit(x_train, x_train,\n",
    "                epochs=25,\n",
    "                batch_size=128,\n",
    "                shuffle=True,\n",
    "                validation_data=(x_test, x_test))"
   ]
  },
  {
   "cell_type": "code",
   "execution_count": 11,
   "metadata": {},
   "outputs": [
    {
     "data": {
      "image/png": "[encoded data removed]",
      "text/plain": [
       "<matplotlib.figure.Figure at 0x247c62848d0>"
      ]
     },
     "metadata": {},
     "output_type": "display_data"
    }
   ],
   "source": [
    "# encode and decode some digits\n",
    "# note that we take them from the *test* set\n",
    "np.random.shuffle(x_test)\n",
    "encoded_imgs = encoder.predict(x_test)\n",
    "decoded_imgs = decoder.predict(encoded_imgs)\n",
    "# use Matplotlib (don't ask)\n",
    "import matplotlib.pyplot as plt\n",
    "\n",
    "n = 10  # how many digits we will display\n",
    "plt.figure(figsize=(20, 4))\n",
    "for i in range(n):\n",
    "    # display original\n",
    "    ax = plt.subplot(2, n, i + 1)\n",
    "    plt.imshow(x_test[i].reshape(16, 128))\n",
    "    plt.gray()\n",
    "    ax.get_xaxis().set_visible(False)\n",
    "    ax.get_yaxis().set_visible(False)\n",
    "\n",
    "    # display reconstruction\n",
    "    ax = plt.subplot(2, n, i + 1 + n)\n",
    "    plt.imshow(decoded_imgs[i].reshape(16, 128))\n",
    "    plt.gray()\n",
    "    ax.get_xaxis().set_visible(False)\n",
    "    ax.get_yaxis().set_visible(False)\n",
    "plt.show()"
   ]
  },
  {
   "cell_type": "code",
   "execution_count": null,
   "metadata": {
    "collapsed": true
   },
   "outputs": [],
   "source": []
  }
 ],
 "metadata": {
  "kernelspec": {
   "display_name": "Python 3",
   "language": "python",
   "name": "python3"
  },
  "language_info": {
   "codemirror_mode": {
    "name": "ipython",
    "version": 3
   },
   "file_extension": ".py",
   "mimetype": "text/x-python",
   "name": "python",
   "nbconvert_exporter": "python",
   "pygments_lexer": "ipython3",
   "version": "3.5.3"
  }
 },
 "nbformat": 4,
 "nbformat_minor": 2
}
